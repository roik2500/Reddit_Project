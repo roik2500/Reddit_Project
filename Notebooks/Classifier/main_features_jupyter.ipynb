{
 "cells": [
  {
   "cell_type": "code",
   "execution_count": 1,
   "id": "00d6cb1d",
   "metadata": {},
   "outputs": [
    {
     "data": {
      "text/plain": [
       "True"
      ]
     },
     "execution_count": 1,
     "metadata": {},
     "output_type": "execute_result"
    }
   ],
   "source": [
    "from text_analysis.name_entity_recognition import NameEntity\n",
    "import spacy\n",
    "# from spacy import displacy\n",
    "from db_utils.FileReader import FileReader\n",
    "from dotenv import load_dotenv\n",
    "import pandas as pd\n",
    "from datetime import datetime\n",
    "import numpy as np\n",
    "import os\n",
    "from db_utils.Con_DB import Con_DB\n",
    "from collections import Counter\n",
    "from tqdm import tqdm\n",
    "from text_analysis.emotion_detection import EmotionDetection\n",
    "from pprint import pprint\n",
    "\n",
    "load_dotenv()"
   ]
  },
  {
   "cell_type": "code",
   "execution_count": 2,
   "id": "361e5271",
   "metadata": {},
   "outputs": [],
   "source": [
    "class NER:\n",
    "    def __init__(self):\n",
    "        self.ner = NameEntity()\n",
    "        self.file_reader = FileReader()\n",
    "\n",
    "\n",
    "    def add_n_most_common_ner_from_dict(self, path_to_csv, n):\n",
    "        csv_file = self.file_reader.read_from_csv(path=path_to_csv)\n",
    "        ners = self.ner.most_N_common_NER(n, path_to_csv)\n",
    "\n",
    "        # convert ners to pandas\n",
    "        ners_df = pd.DataFrame(ners.items(), columns=['NER', 'quantity'])\n",
    "\n",
    "        # conect csv_file to ners_df\n",
    "        csv_concat = pd.concat(csv_file, ners_df)\n",
    "        return csv_file\n",
    "\n",
    "\n",
    "    def add_n_most_common_ner_from_csv(self, path_to_csv, n):\n",
    "        df_csv = pd.read_csv(path_to_csv, encoding='latin-1')\n",
    "        print(\"a\")\n",
    "        # df_csv = self.file_reader.read_from_csv(path_to_csv)\n",
    "        # NER_col = df_csv.head(2).values.tolist()[0]\n",
    "        counter = Counter()\n",
    "        ner_post_id_dict = {}\n",
    "        for index, entity_list_post_id in df_csv[['ner', 'post_id']].iterrows():\n",
    "            row_title = entity_list_post_id[0].replace(\"'\", '')\n",
    "            entity_list = [x.split(\",\")[0] for x in row_title[2:-2].split('), (')]\n",
    "            for entity in entity_list:\n",
    "                if entity == '' or entity == []:\n",
    "                    continue\n",
    "                counter[entity] += 1\n",
    "                ner_post_id_dict[entity] = ner_post_id_dict.get(entity, []) + [entity_list_post_id[1]]\n",
    "                # ner_post_id_dict[entity] = entity_list_post_id[1]\n",
    "        commons = [ent[0] for ent in counter.most_common(n=n)]\n",
    "\n",
    "        print(\"b\")\n",
    "        filtered_dict = {}\n",
    "        a = 0\n",
    "        for c in commons:\n",
    "            a = ner_post_id_dict.pop(c)\n",
    "            df_csv[c] = np.nan\n",
    "            print(\"c\", c)\n",
    "            for index, row in df_csv.iterrows():\n",
    "                if row['post_id'] in a:\n",
    "                    df_csv.loc[index, c] = 1\n",
    "\n",
    "        print(\"c\")\n",
    "        p = rf\"/sise/home/shouei/reddit_code_shai/in_out_put _classifier/finalData_with_probas_with_ner.csv\"\n",
    "        df_csv.to_csv(p, encoding='latin-1')"
   ]
  },
  {
   "cell_type": "code",
   "execution_count": 3,
   "id": "0239a67c",
   "metadata": {},
   "outputs": [
    {
     "name": "stdout",
     "output_type": "stream",
     "text": [
      "a\n",
      "b\n",
      "c biden\n",
      "c trump\n",
      "c joe biden\n",
      "c democrats\n",
      "c gop\n",
      "c donald trump\n",
      "c republicans\n",
      "c white house\n",
      "c senate\n",
      "c bernie sanders\n",
      "c\n"
     ]
    }
   ],
   "source": [
    "# Press the green button in the gutter to run the script.\n",
    "if __name__ == '__main__':\n",
    "    path = rf\"/sise/home/shouei/reddit_code_shai/in_out_put _classifier/finalData_with_probas_with_time.csv\"\n",
    "\n",
    "    ner = NER()\n",
    "    ner.add_n_most_common_ner_from_csv(path, 10)"
   ]
  },
  {
   "cell_type": "code",
   "execution_count": null,
   "id": "beac859d",
   "metadata": {},
   "outputs": [],
   "source": []
  }
 ],
 "metadata": {
  "kernelspec": {
   "display_name": "Python 3",
   "language": "python",
   "name": "python3"
  },
  "language_info": {
   "codemirror_mode": {
    "name": "ipython",
    "version": 3
   },
   "file_extension": ".py",
   "mimetype": "text/x-python",
   "name": "python",
   "nbconvert_exporter": "python",
   "pygments_lexer": "ipython3",
   "version": "3.6.8"
  }
 },
 "nbformat": 4,
 "nbformat_minor": 5
}
